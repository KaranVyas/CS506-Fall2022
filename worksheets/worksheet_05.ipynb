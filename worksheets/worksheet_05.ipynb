{
 "cells": [
  {
   "cell_type": "markdown",
   "metadata": {},
   "source": [
    "# Worksheet 05\n",
    "\n",
    "Name:  Karan Vyas\n",
    "UID: U15657042\n",
    "\n",
    "### Topics\n",
    "\n",
    "- Hierarchical Clustering\n",
    "\n",
    "### Hierarchical Clustering\n",
    "\n",
    "Using the following dataset:\n",
    "\n",
    "| Point | x | y |\n",
    "|-------|---|---|\n",
    "| A     | 0 | 0 |\n",
    "| B     | 1 | 1 |\n",
    "| C     | 3 | 0 |\n",
    "| D     | 0 | 1 |\n",
    "| E     | 2 | 2 |\n",
    "\n",
    "with\n",
    "\n",
    "d = Euclidean  \n",
    "D = Single-Link\n",
    "\n",
    "produce the distance matrix at every step of the hierarchical clustering algorithm."
   ]
  },
  {
   "cell_type": "markdown",
   "metadata": {},
   "source": [
    "Step 1\n",
    "\n",
    "|    | A | B | C | D | E |\n",
    "| ---|---|---|---|---|---|\n",
    "|  A | 0 | √2| 3 | 1 | √8|\n",
    "|  B | √2| 0 | √5| 1 | √2|\n",
    "|  C | 3 | √5| 0 |√10| √5|\n",
    "|  D | 1 | 1 |√10| 0 | √5|\n",
    "|  E | √8| √2| √5| √5| 0 |"
   ]
  },
  {
   "cell_type": "markdown",
   "metadata": {},
   "source": [
    "Step 2\n",
    "\n",
    "|    |A&D| B | C | E |\n",
    "|--- |---|---|---|---|\n",
    "|A&D | 0 | 1 | 3 | √5|\n",
    "| B  | 1 | 0 | √5| √2|\n",
    "| C  | 3 | √5| 0 | √5|\n",
    "| E  | √5| √2| √5| 0 |"
   ]
  },
  {
   "cell_type": "markdown",
   "metadata": {},
   "source": [
    "Step 3\n",
    "\n",
    "|       |A&D&B| C | E |\n",
    "|---    |---  |---|---|\n",
    "| A&D&B |  0  | √5| √2|\n",
    "|  C    |  √5 | 0 | √5|\n",
    "|  E    |  √2 | √5| 0 |"
   ]
  },
  {
   "cell_type": "markdown",
   "metadata": {},
   "source": [
    "Step 4\n",
    "\n",
    "|       |A&D&B&E| C |\n",
    "|-------|-------|---|\n",
    "|A&D&B&E|   0   | √5|\n",
    "|   C   |   √5  | 0 |"
   ]
  },
  {
   "cell_type": "markdown",
   "metadata": {},
   "source": [
    "Repeat the above with\n",
    "\n",
    "d = Euclidean  \n",
    "D = Complete-Link"
   ]
  },
  {
   "cell_type": "markdown",
   "metadata": {},
   "source": [
    "Step 1\n",
    "\n",
    "|    | A | B | C | D | E |\n",
    "| ---|---|---|---|---|---|\n",
    "|  A | 0 | √2| 3 | 1 | √8|\n",
    "|  B | √2| 0 | √5| 1 | √2|\n",
    "|  C | 3 | √5| 0 |√10| √5|\n",
    "|  D | 1 | 1 |√10| 0 | √5|\n",
    "|  E | √8| √2| √5| √5| 0 |"
   ]
  },
  {
   "cell_type": "markdown",
   "metadata": {},
   "source": [
    "Step 2\n",
    "\n",
    "|    |A&D| B | C | E |\n",
    "|--- |---|---|---|---|\n",
    "|A&D | 0 | √2| √5| √8|\n",
    "| B  | √2| 0 | √5| √2|\n",
    "| C  | √5| √5| 0 | √5|\n",
    "| E  | √8| √2| √5| 0 |"
   ]
  },
  {
   "cell_type": "markdown",
   "metadata": {},
   "source": [
    "Step 3\n",
    "\n",
    "|       |A&D&B| C | E |\n",
    "|---    |---  |---|---|\n",
    "| A&D&B |  0  |√10| √8|\n",
    "|  C    |  √10| 0 | √5|\n",
    "|  E    |  √8 | √5| 0 |"
   ]
  },
  {
   "cell_type": "markdown",
   "metadata": {},
   "source": [
    "Step 4\n",
    "\n",
    "|     |A&D&B|C&E|\n",
    "|---  |---  |---|\n",
    "|A&D&B|  0  |√10|\n",
    "| C&E | √10 | 0 |"
   ]
  }
 ],
 "metadata": {
  "language_info": {
   "name": "python"
  },
  "orig_nbformat": 4
 },
 "nbformat": 4,
 "nbformat_minor": 2
}
